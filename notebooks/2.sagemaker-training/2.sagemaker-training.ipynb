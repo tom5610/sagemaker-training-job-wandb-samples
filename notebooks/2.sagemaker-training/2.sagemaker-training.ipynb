{
 "cells": [
  {
   "cell_type": "markdown",
   "id": "6e0e530f",
   "metadata": {},
   "source": [
    "## SageMaker Training using Weight & Bias\n",
    "\n"
   ]
  },
  {
   "cell_type": "code",
   "execution_count": null,
   "id": "3bc31ff6",
   "metadata": {},
   "outputs": [],
   "source": [
    "import boto3\n",
    "import json\n",
    "import os\n",
    "\n",
    "from botocore.exceptions import ClientError\n",
    "\n",
    "from dotenv import load_dotenv\n",
    "load_dotenv(\"../../.env\")"
   ]
  },
  {
   "cell_type": "code",
   "execution_count": null,
   "id": "cfdb2e9d",
   "metadata": {},
   "outputs": [],
   "source": [
    "import os\n",
    "import json\n",
    "\n",
    "import sagemaker\n",
    "from sagemaker.pytorch import PyTorch\n",
    "\n",
    "session = sagemaker.Session()\n",
    "region = session.boto_region_name\n",
    "\n",
    "AWS_ACCOUNT_ID = os.environ.get('AWS_ACCOUNT_ID')\n",
    "\n",
    "iam_role = f\"arn:aws:iam::{AWS_ACCOUNT_ID}:role/sagemaker-execution-role\"\n",
    "\n",
    "training_job_output = \"s3://sagemaker-wandb-samples/training-jobs/\"\n"
   ]
  },
  {
   "cell_type": "code",
   "execution_count": null,
   "id": "748a7a2e",
   "metadata": {},
   "outputs": [],
   "source": [
    "\n",
    "\n",
    "wandb_secret_name = \"weights_and_bias_secret\"\n",
    "\n",
    "# Initialize the Secrets Manager client\n",
    "secretsmanager = boto3.client('secretsmanager')\n",
    "\n",
    "# Create the secret with WANDB_API_KEY\n",
    "secret_value = {\"WANDB_API_KEY\": os.environ.get(\"WANDB_API_KEY\")}\n",
    "secret_string = json.dumps(secret_value)\n",
    "\n",
    "# Create the secret in AWS Secrets Manager\n",
    "try:\n",
    "    # Try to get the secret to check if it exists\n",
    "    secretsmanager.get_secret_value(SecretId=wandb_secret_name)\n",
    "    \n",
    "    # Secret exists, update it\n",
    "    response = secretsmanager.update_secret(\n",
    "        SecretId=wandb_secret_name,\n",
    "        SecretString=secret_string\n",
    "    )\n",
    "    print(f\"Secret updated successfully: {wandb_secret_name}\")\n",
    "    \n",
    "except ClientError as e:\n",
    "    if e.response['Error']['Code'] == 'ResourceNotFoundException':\n",
    "        # Secret doesn't exist, create it\n",
    "        try:\n",
    "            response = secretsmanager.create_secret(\n",
    "                Name=wandb_secret_name,\n",
    "                SecretString=secret_string\n",
    "            )\n",
    "            print(f\"Secret created successfully: {response['ARN']}\")\n",
    "        except Exception as create_error:\n",
    "            print(f\"Error creating secret: {str(create_error)}\")\n",
    "    else:\n",
    "        # Other error occurred\n",
    "        print(f\"Error accessing secret: {str(e)}\")"
   ]
  },
  {
   "cell_type": "markdown",
   "id": "6e6f2cf1",
   "metadata": {},
   "source": [
    "### Set hyperparameters"
   ]
  },
  {
   "cell_type": "code",
   "execution_count": null,
   "id": "14147ee4",
   "metadata": {},
   "outputs": [],
   "source": [
    "instance_type = 'ml.g5.xlarge'\n",
    "image_uri = f\"{AWS_ACCOUNT_ID}.dkr.ecr.us-east-1.amazonaws.com/mnist-training:latest\"\n",
    "\n",
    "estimator = PyTorch(\n",
    "    entry_point=\"train.py\",\n",
    "    source_dir=\"code\",\n",
    "    role=iam_role,\n",
    "    instance_type=instance_type, \n",
    "    instance_count=1,\n",
    "    volume_size=50,\n",
    "    output_path=training_job_output,\n",
    "    hyperparameters={\n",
    "        \"epochs\": 5\n",
    "    }, \n",
    "    environment={\n",
    "        \"WANDB_SECRET_NAME\": wandb_secret_name,\n",
    "        \"WANDB_PROJECT\": \"MNIST\",\n",
    "        \"AWS_DEFAULT_REGION\": \"us-east-1\", # for training script to access region-based resources - secret.\n",
    "        # \"WANDB_CHECKPOINT_NAME\": \n",
    "        # \"WANDB_CHECKPOINT_TAG\": \"latest\"\n",
    "    },\n",
    "    image_uri=image_uri\n",
    ")"
   ]
  },
  {
   "cell_type": "code",
   "execution_count": null,
   "id": "d2272ce3",
   "metadata": {},
   "outputs": [],
   "source": [
    "estimator.fit(wait=False)"
   ]
  }
 ],
 "metadata": {
  "kernelspec": {
   "display_name": "sagemaker-training-job-wandb-samples",
   "language": "python",
   "name": "python3"
  },
  "language_info": {
   "codemirror_mode": {
    "name": "ipython",
    "version": 3
   },
   "file_extension": ".py",
   "mimetype": "text/x-python",
   "name": "python",
   "nbconvert_exporter": "python",
   "pygments_lexer": "ipython3",
   "version": "3.12.11"
  }
 },
 "nbformat": 4,
 "nbformat_minor": 5
}
