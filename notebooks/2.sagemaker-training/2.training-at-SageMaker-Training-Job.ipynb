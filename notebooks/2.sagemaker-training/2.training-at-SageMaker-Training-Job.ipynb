{
 "cells": [
  {
   "cell_type": "markdown",
   "id": "6e0e530f",
   "metadata": {},
   "source": [
    "## ML Training at SageMaker Training Job (with W&B)\n",
    "\n",
    "This is an example notebook to invoke SageMaker Training Job service for MNIST classification ML training. \n",
    "\n",
    "In the notebook, we will work through SageMaker Execution Role creation, W&B secret creation (for API key) and invoke SageMaker Training Job service. \n",
    "\n",
    "\n"
   ]
  },
  {
   "cell_type": "markdown",
   "id": "59436e58",
   "metadata": {},
   "source": [
    "### Setup\n",
    "\n",
    "Enable scripts loading dynamically."
   ]
  },
  {
   "cell_type": "code",
   "execution_count": null,
   "id": "13ddc172",
   "metadata": {},
   "outputs": [],
   "source": [
    "# to load scripts dynamically\n",
    "%load_ext autoreload\n",
    "%autoreload 2"
   ]
  },
  {
   "cell_type": "markdown",
   "id": "7bf77802",
   "metadata": {},
   "source": [
    "Load environment variables from `.env` file."
   ]
  },
  {
   "cell_type": "code",
   "execution_count": null,
   "id": "3bc31ff6",
   "metadata": {},
   "outputs": [],
   "source": [
    "import boto3\n",
    "import json\n",
    "import os\n",
    "\n",
    "from botocore.exceptions import ClientError\n",
    "\n",
    "from dotenv import load_dotenv\n",
    "load_dotenv(\"../../.env\")"
   ]
  },
  {
   "cell_type": "markdown",
   "id": "17973da8",
   "metadata": {},
   "source": [
    "Create SageMaker Execution Role if it doesn't exist. The key permissions for the IAM role is to:\n",
    "* download training image from ECR\n",
    "* read wandb secrets\n",
    "* add tags to sagemaker training job for marking wandb project & checkpoint so as for training resiliency \n",
    "* CloudWatch logs and metrics\n",
    "* S3 output path"
   ]
  },
  {
   "cell_type": "code",
   "execution_count": null,
   "id": "52cddde4",
   "metadata": {},
   "outputs": [],
   "source": [
    "from scripts.utils import create_sagemaker_execution_role, create_wandb_secret, create_s3_bucket\n",
    "\n",
    "iam_role = create_sagemaker_execution_role(\"sagemaker-execution-role\")"
   ]
  },
  {
   "cell_type": "markdown",
   "id": "0fad9b49",
   "metadata": {},
   "source": [
    "Create WANDB secret on AWS Secret Manager, which will be used in Training Job for integration on ML experimentation, tracking and checkpoint storage."
   ]
  },
  {
   "cell_type": "code",
   "execution_count": null,
   "id": "f53907ba",
   "metadata": {},
   "outputs": [],
   "source": [
    "# creating api key secret\n",
    "wandb_secret_name = \"wandb-secret\"\n",
    "create_wandb_secret(wandb_secret_name, os.environ.get(\"WANDB_API_KEY\"))"
   ]
  },
  {
   "cell_type": "markdown",
   "id": "c3202500",
   "metadata": {},
   "source": [
    "Create S3 bucket for SageMaker Training Job output. \n",
    "* Please ensure that the bucket naming pattern aligned with IAM role (by `create_sagemaker_execution_role` function) permissions.\n",
    "* Reference - with key word `sagemaker`:\n",
    "\n",
    "```\n",
    "{\n",
    "                \"Sid\": \"AllowS3ObjectActions\",\n",
    "                \"Effect\": \"Allow\",\n",
    "                \"Action\": [\n",
    "                    \"s3:GetObject\",\n",
    "                    \"s3:PutObject\",\n",
    "                    \"s3:DeleteObject\",\n",
    "                    \"s3:AbortMultipartUpload\"\n",
    "                ],\n",
    "                \"Resource\": [\n",
    "                    \"arn:aws:s3:::*SageMaker*\",\n",
    "                    \"arn:aws:s3:::*Sagemaker*\",\n",
    "                    \"arn:aws:s3:::*sagemaker*\"\n",
    "                ]\n",
    "            },\n",
    "```"
   ]
  },
  {
   "cell_type": "code",
   "execution_count": null,
   "id": "5a8c31e2",
   "metadata": {},
   "outputs": [],
   "source": [
    "# by default, creating the bucket in us-east-1 region without providing region parameter.\n",
    "bucket_name = \"sagemaker-wandb-samples\"\n",
    "create_s3_bucket(bucket_name)"
   ]
  },
  {
   "cell_type": "markdown",
   "id": "6e6f2cf1",
   "metadata": {},
   "source": [
    "### Set hyperparameters"
   ]
  },
  {
   "cell_type": "code",
   "execution_count": null,
   "id": "14147ee4",
   "metadata": {},
   "outputs": [],
   "source": [
    "import sagemaker\n",
    "from sagemaker.pytorch import PyTorch\n",
    "\n",
    "session = sagemaker.Session()\n",
    "region = session.boto_region_name\n",
    "\n",
    "instance_type = 'ml.g6.xlarge'\n",
    "training_job_output = f\"s3://{bucket_name}/training-jobs/\"\n",
    "\n",
    "# image uri when using Bring Your Own Container\n",
    "# image_uri = f\"{AWS_ACCOUNT_ID}.dkr.ecr.us-east-1.amazonaws.com/mnist-training:latest\"\n",
    "\n",
    "estimator = PyTorch(\n",
    "    # image_uri=image_uri,\n",
    "    framework_version=\"2.7\",\n",
    "    py_version=\"py312\",\n",
    "    entry_point=\"train.py\",\n",
    "    source_dir=\"./src\",\n",
    "    role=iam_role,\n",
    "    instance_type=instance_type, \n",
    "    instance_count=1,\n",
    "    volume_size=50,\n",
    "    output_path=training_job_output,\n",
    "    hyperparameters={\n",
    "        \"epochs\": 5\n",
    "    }, \n",
    "    environment={\n",
    "        \"WANDB_SECRET_NAME\": wandb_secret_name,\n",
    "        \"WANDB_PROJECT\": \"MNIST\",\n",
    "        \"AWS_DEFAULT_REGION\": region, # for training script to access region-based resources - secret.\n",
    "        # \"WANDB_CHECKPOINT_NAME\": \n",
    "        # \"WANDB_CHECKPOINT_TAG\": \"latest\"\n",
    "    },\n",
    ")"
   ]
  },
  {
   "cell_type": "code",
   "execution_count": null,
   "id": "d2272ce3",
   "metadata": {},
   "outputs": [],
   "source": [
    "estimator.fit(wait=False)"
   ]
  }
 ],
 "metadata": {
  "kernelspec": {
   "display_name": "sagemaker-training-job-wandb-samples",
   "language": "python",
   "name": "python3"
  },
  "language_info": {
   "codemirror_mode": {
    "name": "ipython",
    "version": 3
   },
   "file_extension": ".py",
   "mimetype": "text/x-python",
   "name": "python",
   "nbconvert_exporter": "python",
   "pygments_lexer": "ipython3",
   "version": "3.12.11"
  }
 },
 "nbformat": 4,
 "nbformat_minor": 5
}
