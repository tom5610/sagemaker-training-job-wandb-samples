{
 "cells": [
  {
   "cell_type": "markdown",
   "id": "08ceb8bd",
   "metadata": {},
   "source": [
    "## Deep Learning ML training at local\n",
    "\n",
    "The purpose of the notebook is to demo how to training a computer vision model at local using PyTorch Lightning, with Weights & Bias for full traceability and reproducibility."
   ]
  },
  {
   "cell_type": "code",
   "execution_count": 1,
   "id": "ec26c3be",
   "metadata": {},
   "outputs": [
    {
     "data": {
      "text/plain": [
       "True"
      ]
     },
     "execution_count": 1,
     "metadata": {},
     "output_type": "execute_result"
    }
   ],
   "source": [
    "from dotenv import load_dotenv\n",
    "load_dotenv(\"../.env\")"
   ]
  },
  {
   "cell_type": "code",
   "execution_count": 2,
   "id": "f32d10ba",
   "metadata": {},
   "outputs": [
    {
     "name": "stderr",
     "output_type": "stream",
     "text": [
      "\u001b[34m\u001b[1mwandb\u001b[0m: Currently logged in as: \u001b[33mtom-5610\u001b[0m (\u001b[33mtom-5610-aws\u001b[0m) to \u001b[32mhttps://api.wandb.ai\u001b[0m. Use \u001b[1m`wandb login --relogin`\u001b[0m to force relogin\n"
     ]
    },
    {
     "data": {
      "text/plain": [
       "True"
      ]
     },
     "execution_count": 2,
     "metadata": {},
     "output_type": "execute_result"
    }
   ],
   "source": [
    "import wandb\n",
    "wandb.login()"
   ]
  },
  {
   "cell_type": "markdown",
   "id": "a93d35d2",
   "metadata": {},
   "source": [
    "### Setup the dataloader"
   ]
  },
  {
   "cell_type": "code",
   "execution_count": 3,
   "id": "f748ffb2",
   "metadata": {},
   "outputs": [],
   "source": [
    "from torchvision.datasets import MNIST\n",
    "from torchvision import transforms\n",
    "from torch.utils.data import DataLoader, random_split\n",
    "\n",
    "transform = transforms.Compose([\n",
    "    transforms.ToTensor(),\n",
    "    transforms.Normalize((0.1307,), (0.3081,))\n",
    "])\n",
    "\n",
    "dataset = MNIST(root=\"./data/MNIST\", download=True, transform=transform)\n",
    "training_set, validation_set = random_split(dataset, [55_000, 5000])"
   ]
  },
  {
   "cell_type": "code",
   "execution_count": 4,
   "id": "582d0c80",
   "metadata": {},
   "outputs": [],
   "source": [
    "training_loader = DataLoader(training_set, batch_size=64, shuffle=True)\n",
    "validation_loader = DataLoader(validation_set, batch_size=64)"
   ]
  },
  {
   "cell_type": "markdown",
   "id": "7c4672a4",
   "metadata": {},
   "source": [
    "### Defining the model"
   ]
  },
  {
   "cell_type": "markdown",
   "id": "9b8e8178",
   "metadata": {},
   "source": [
    "**Tips**:\n",
    "* Call `self.save_hyperparameters()` in `__init__` to automatically log your hyperparameters to **W&B**.\n",
    "* Call self.log in `training_step` and `validation_step` to log the metrics."
   ]
  },
  {
   "cell_type": "code",
   "execution_count": 5,
   "id": "a011a33c",
   "metadata": {},
   "outputs": [],
   "source": [
    "import lightning.pytorch as pl\n"
   ]
  },
  {
   "cell_type": "code",
   "execution_count": 6,
   "id": "9901004e",
   "metadata": {},
   "outputs": [],
   "source": [
    "import torch\n",
    "from torch.nn import Linear, CrossEntropyLoss, functional as F\n",
    "from torch.optim import Adam\n",
    "from torchmetrics.functional import accuracy\n",
    "\n",
    "class MNIST_LitModule(pl.LightningModule):\n",
    "\n",
    "    def __init__(self, n_classes=10, n_layer_1=128, n_layer_2=256, lr=1e-3):\n",
    "        '''\n",
    "        method used to define our model parameters\n",
    "        '''\n",
    "        super().__init__()\n",
    "\n",
    "        # mnist images are (1, 28, 28) (channels, width, height)\n",
    "        self.layer_1 = Linear(28 * 28, n_layer_1)\n",
    "        self.layer_2 = Linear(n_layer_1, n_layer_2)\n",
    "        self.layer_3 = Linear(n_layer_2, n_classes)\n",
    "\n",
    "        # loss\n",
    "        self.loss = CrossEntropyLoss()\n",
    "\n",
    "        # optimizer parameters\n",
    "        self.lr = lr\n",
    "\n",
    "        # save Hyperparameters to self.hparams (auto-logged by W&B)\n",
    "        self.save_hyperparameters()\n",
    "\n",
    "    \n",
    "    def forward(self, x):\n",
    "        '''method used for infernce input -> output'''\n",
    "\n",
    "        batch_size, channels, width, height = x.size()\n",
    "\n",
    "        # (b, 1, 28, 28) -> (b, 1*28*28)\n",
    "        x = x.view(batch_size, -1)\n",
    "\n",
    "        # let's do 3 x (linear + relu)\n",
    "        x = self.layer_1(x)\n",
    "        x = F.relu(x)\n",
    "        x = self.layer_2(x)\n",
    "        x = F.relu(x)\n",
    "        x = self.layer_3(x)\n",
    "\n",
    "        return x\n",
    "\n",
    "    def _get_preds_loss_accuracy(self, batch):\n",
    "        '''convenience function since train/valid/test steps are similar'''\n",
    "        x, y = batch\n",
    "        logits = self(x)\n",
    "        preds = torch.argmax(logits, dim=1)\n",
    "        loss = self.loss(logits, y)\n",
    "        acc = accuracy(preds, y, 'multiclass', num_classes=10)\n",
    "        return preds, loss, acc\n",
    "\n",
    "\n",
    "    def training_step(self, batch, batch_idx):\n",
    "        '''needs to return a loss from a single batch'''\n",
    "        _, loss, acc = self._get_preds_loss_accuracy(batch)\n",
    "\n",
    "        # log loss and metric\n",
    "        self.log('train_loss', loss)\n",
    "        self.log('training_accuracy', acc)\n",
    "\n",
    "        return loss\n",
    "    \n",
    "    def validation_step(self, batch, batch_idx):\n",
    "        '''used for logging metrics'''\n",
    "        preds, loss, acc = self._get_preds_loss_accuracy(batch)\n",
    "\n",
    "        # log\n",
    "        self.log('val_loss', loss)\n",
    "        self.log('val_accuracy', acc)\n",
    "\n",
    "        return preds\n",
    "\n",
    "    def test_step(self, batch, batch_idx):\n",
    "        '''used for logging metrics'''\n",
    "        _, loss, acc = self._get_preds_loss_accuracy(batch)\n",
    "\n",
    "        # Log loss and metric\n",
    "        self.log('test_loss', loss)\n",
    "        self.log('test_accuracy', acc)\n",
    "\n",
    "    def configure_optimizers(self):\n",
    "        return Adam(self.parameters(), lr=self.lr)\n",
    "\n",
    "    def on_save_checkpoint(self, checkpoint):\n",
    "        super().on_save_checkpoint(checkpoint)\n",
    "        print(\"!!!LightningModule-Checkpoint!!!\")\n",
    "        print(\"checkpoint name\", self.logger._checkpoint_name)\n",
    "        print(\"project\", self.logger._project)\n",
    "        print(\"name\", self.logger._name)\n",
    "        print(\"entity\", self.logger._experiment.entity)\n",
    "        \n",
    "\n",
    "\n",
    "\n"
   ]
  },
  {
   "cell_type": "code",
   "execution_count": 7,
   "id": "c0408743",
   "metadata": {},
   "outputs": [],
   "source": [
    "model = MNIST_LitModule(n_layer_1=128, n_layer_2=128)"
   ]
  },
  {
   "cell_type": "markdown",
   "id": "747ea4ce",
   "metadata": {},
   "source": [
    "### Save model checkpoints"
   ]
  },
  {
   "cell_type": "code",
   "execution_count": 9,
   "id": "a4945617",
   "metadata": {},
   "outputs": [],
   "source": [
    "from lightning.pytorch.callbacks import ModelCheckpoint\n",
    "\n",
    "checkpoint_callback = ModelCheckpoint(\n",
    "    dirpath=\"./checkpoint\", \n",
    "    filename=\"{epoch:03d}\",\n",
    "    monitor='val_accuracy', \n",
    "    save_top_k=-1,\n",
    "    mode='max')"
   ]
  },
  {
   "cell_type": "markdown",
   "id": "113162c1",
   "metadata": {},
   "source": [
    "#### Logging images"
   ]
  },
  {
   "cell_type": "code",
   "execution_count": 10,
   "id": "67d5e7d3",
   "metadata": {},
   "outputs": [],
   "source": [
    "from lightning.pytorch.callbacks import Callback\n",
    " \n",
    "class LogPredictionsCallback(Callback):\n",
    "\n",
    "    # def on_save_checkpoint(self, checkpoint):\n",
    "    #     print(\"---CHECKPOINT---\")\n",
    "    #     print(type(checkpoint))\n",
    "    #     print(checkpoint._checkpoint_name)\n",
    "    \n",
    "    def on_validation_batch_end(\n",
    "        self, trainer, pl_module, outputs, batch, batch_idx):\n",
    "        \"\"\"Called when the validation batch ends.\"\"\"\n",
    " \n",
    "        # `outputs` comes from `LightningModule.validation_step`\n",
    "        # which corresponds to our model predictions in this case\n",
    "        \n",
    "        # Let's log 20 sample image predictions from first batch\n",
    "        if batch_idx == 0:\n",
    "            n = 20\n",
    "            x, y = batch\n",
    "            images = [img for img in x[:n]]\n",
    "            captions = [f'Ground Truth: {y_i} - Prediction: {y_pred}' for y_i, y_pred in zip(y[:n], outputs[:n])]\n",
    "            \n",
    "            # Option 1: log images with `WandbLogger.log_image`\n",
    "            wandb_logger.log_image(key='sample_images', images=images, caption=captions)\n",
    "\n",
    "            # Option 2: log predictions as a Table\n",
    "            columns = ['image', 'ground truth', 'prediction']\n",
    "            data = [[wandb.Image(x_i), y_i, y_pred] for x_i, y_i, y_pred in list(zip(x[:n], y[:n], outputs[:n]))]\n",
    "            wandb_logger.log_table(key='sample_table', columns=columns, data=data)\n",
    "\n",
    "log_predictions_callback = LogPredictionsCallback()"
   ]
  },
  {
   "cell_type": "markdown",
   "id": "5749dbad",
   "metadata": {},
   "source": [
    "### Train Your Model"
   ]
  },
  {
   "cell_type": "code",
   "execution_count": 11,
   "id": "fd7a895c",
   "metadata": {},
   "outputs": [
    {
     "name": "stderr",
     "output_type": "stream",
     "text": [
      "GPU available: True (cuda), used: True\n",
      "TPU available: False, using: 0 TPU cores\n",
      "HPU available: False, using: 0 HPUs\n"
     ]
    }
   ],
   "source": [
    "from lightning.pytorch.loggers import WandbLogger\n",
    "from lightning.pytorch import Trainer\n",
    "\n",
    "wandb_logger = WandbLogger(project=\"MNIST\", log_model=\"all\")\n",
    "\n",
    "\n",
    "trainer = Trainer(\n",
    "    logger=wandb_logger,\n",
    "    callbacks=[log_predictions_callback, checkpoint_callback],\n",
    "    accelerator=\"gpu\",\n",
    "    max_epochs=5\n",
    ")"
   ]
  },
  {
   "cell_type": "code",
   "execution_count": 12,
   "id": "0705534c",
   "metadata": {},
   "outputs": [
    {
     "name": "stderr",
     "output_type": "stream",
     "text": [
      "You are using a CUDA device ('NVIDIA L4') that has Tensor Cores. To properly utilize them, you should set `torch.set_float32_matmul_precision('medium' | 'high')` which will trade-off precision for performance. For more details, read https://pytorch.org/docs/stable/generated/torch.set_float32_matmul_precision.html#torch.set_float32_matmul_precision\n"
     ]
    },
    {
     "data": {
      "text/html": [
       "Tracking run with wandb version 0.21.1"
      ],
      "text/plain": [
       "<IPython.core.display.HTML object>"
      ]
     },
     "metadata": {},
     "output_type": "display_data"
    },
    {
     "data": {
      "text/html": [
       "Run data is saved locally in <code>./wandb/run-20250826_001659-a15oyoxk</code>"
      ],
      "text/plain": [
       "<IPython.core.display.HTML object>"
      ]
     },
     "metadata": {},
     "output_type": "display_data"
    },
    {
     "data": {
      "text/html": [
       "Syncing run <strong><a href='https://wandb.ai/tom-5610-aws/MNIST/runs/a15oyoxk' target=\"_blank\">smart-plasma-7</a></strong> to <a href='https://wandb.ai/tom-5610-aws/MNIST' target=\"_blank\">Weights & Biases</a> (<a href='https://wandb.me/developer-guide' target=\"_blank\">docs</a>)<br>"
      ],
      "text/plain": [
       "<IPython.core.display.HTML object>"
      ]
     },
     "metadata": {},
     "output_type": "display_data"
    },
    {
     "data": {
      "text/html": [
       " View project at <a href='https://wandb.ai/tom-5610-aws/MNIST' target=\"_blank\">https://wandb.ai/tom-5610-aws/MNIST</a>"
      ],
      "text/plain": [
       "<IPython.core.display.HTML object>"
      ]
     },
     "metadata": {},
     "output_type": "display_data"
    },
    {
     "data": {
      "text/html": [
       " View run at <a href='https://wandb.ai/tom-5610-aws/MNIST/runs/a15oyoxk' target=\"_blank\">https://wandb.ai/tom-5610-aws/MNIST/runs/a15oyoxk</a>"
      ],
      "text/plain": [
       "<IPython.core.display.HTML object>"
      ]
     },
     "metadata": {},
     "output_type": "display_data"
    },
    {
     "name": "stderr",
     "output_type": "stream",
     "text": [
      "/home/ubuntu/workspace/deep-learning/sagemaker-training-job-wandb-samples/.venv/lib/python3.12/site-packages/lightning/pytorch/callbacks/model_checkpoint.py:701: Checkpoint directory /home/ubuntu/workspace/deep-learning/sagemaker-training-job-wandb-samples/notebooks/checkpoint exists and is not empty.\n",
      "LOCAL_RANK: 0 - CUDA_VISIBLE_DEVICES: [0]\n",
      "\n",
      "  | Name    | Type             | Params | Mode \n",
      "-----------------------------------------------------\n",
      "0 | layer_1 | Linear           | 100 K  | train\n",
      "1 | layer_2 | Linear           | 16.5 K | train\n",
      "2 | layer_3 | Linear           | 1.3 K  | train\n",
      "3 | loss    | CrossEntropyLoss | 0      | train\n",
      "-----------------------------------------------------\n",
      "118 K     Trainable params\n",
      "0         Non-trainable params\n",
      "118 K     Total params\n",
      "0.473     Total estimated model params size (MB)\n",
      "4         Modules in train mode\n",
      "0         Modules in eval mode\n"
     ]
    },
    {
     "name": "stdout",
     "output_type": "stream",
     "text": [
      "Sanity Checking DataLoader 0:   0%|          | 0/2 [00:00<?, ?it/s]"
     ]
    },
    {
     "name": "stderr",
     "output_type": "stream",
     "text": [
      "/home/ubuntu/workspace/deep-learning/sagemaker-training-job-wandb-samples/.venv/lib/python3.12/site-packages/lightning/pytorch/trainer/connectors/data_connector.py:433: The 'val_dataloader' does not have many workers which may be a bottleneck. Consider increasing the value of the `num_workers` argument` to `num_workers=15` in the `DataLoader` to improve performance.\n",
      "\u001b[34m\u001b[1mwandb\u001b[0m: \u001b[33mWARNING\u001b[0m Data passed to `wandb.Image` should consist of values in the range [0, 255], image data will be normalized to this range, but behavior will be removed in a future version of wandb.\n"
     ]
    },
    {
     "name": "stdout",
     "output_type": "stream",
     "text": [
      "                                                                           "
     ]
    },
    {
     "name": "stderr",
     "output_type": "stream",
     "text": [
      "/home/ubuntu/workspace/deep-learning/sagemaker-training-job-wandb-samples/.venv/lib/python3.12/site-packages/lightning/pytorch/trainer/connectors/data_connector.py:433: The 'train_dataloader' does not have many workers which may be a bottleneck. Consider increasing the value of the `num_workers` argument` to `num_workers=15` in the `DataLoader` to improve performance.\n"
     ]
    },
    {
     "name": "stdout",
     "output_type": "stream",
     "text": [
      "Epoch 0: 100%|██████████| 860/860 [00:11<00:00, 73.69it/s, v_num=yoxk]!!!LightningModule-Checkpoint!!!\n",
      "checkpoint name None\n",
      "project MNIST\n",
      "name None\n",
      "entity tom-5610-aws\n",
      "Epoch 1: 100%|██████████| 860/860 [00:11<00:00, 75.51it/s, v_num=yoxk]!!!LightningModule-Checkpoint!!!\n",
      "checkpoint name model-a15oyoxk\n",
      "project MNIST\n",
      "name None\n",
      "entity tom-5610-aws\n",
      "Epoch 2: 100%|██████████| 860/860 [00:11<00:00, 74.03it/s, v_num=yoxk]!!!LightningModule-Checkpoint!!!\n",
      "checkpoint name model-a15oyoxk\n",
      "project MNIST\n",
      "name None\n",
      "entity tom-5610-aws\n",
      "Epoch 3: 100%|██████████| 860/860 [00:11<00:00, 74.89it/s, v_num=yoxk]!!!LightningModule-Checkpoint!!!\n",
      "checkpoint name model-a15oyoxk\n",
      "project MNIST\n",
      "name None\n",
      "entity tom-5610-aws\n",
      "Epoch 4: 100%|██████████| 860/860 [00:11<00:00, 73.74it/s, v_num=yoxk]!!!LightningModule-Checkpoint!!!\n",
      "checkpoint name model-a15oyoxk\n",
      "project MNIST\n",
      "name None\n",
      "entity tom-5610-aws\n"
     ]
    },
    {
     "name": "stderr",
     "output_type": "stream",
     "text": [
      "`Trainer.fit` stopped: `max_epochs=5` reached.\n"
     ]
    },
    {
     "name": "stdout",
     "output_type": "stream",
     "text": [
      "Epoch 4: 100%|██████████| 860/860 [00:11<00:00, 72.39it/s, v_num=yoxk]\n"
     ]
    }
   ],
   "source": [
    "trainer.fit(model, training_loader, validation_loader)"
   ]
  },
  {
   "cell_type": "code",
   "execution_count": null,
   "id": "2b9901db",
   "metadata": {},
   "outputs": [],
   "source": [
    "tom-5610-aws/MNIST/model-nhrn51pr:v3"
   ]
  },
  {
   "cell_type": "code",
   "execution_count": 13,
   "id": "c6be9c5a",
   "metadata": {},
   "outputs": [
    {
     "name": "stderr",
     "output_type": "stream",
     "text": [
      "\u001b[34m\u001b[1mwandb\u001b[0m: \u001b[32m\u001b[41mERROR\u001b[0m The nbformat package was not found. It is required to save notebook history.\n"
     ]
    },
    {
     "data": {
      "text/html": [],
      "text/plain": [
       "<IPython.core.display.HTML object>"
      ]
     },
     "metadata": {},
     "output_type": "display_data"
    },
    {
     "data": {
      "text/html": [
       "<br>    <style><br>        .wandb-row {<br>            display: flex;<br>            flex-direction: row;<br>            flex-wrap: wrap;<br>            justify-content: flex-start;<br>            width: 100%;<br>        }<br>        .wandb-col {<br>            display: flex;<br>            flex-direction: column;<br>            flex-basis: 100%;<br>            flex: 1;<br>            padding: 10px;<br>        }<br>    </style><br><div class=\"wandb-row\"><div class=\"wandb-col\"><h3>Run history:</h3><br/><table class=\"wandb\"><tr><td>epoch</td><td>▁▁▁▁▁▁▁▁▁▃▃▃▃▃▃▃▃▅▅▅▅▅▅▅▅▅▅▆▆▆▆▆▆▆▆█████</td></tr><tr><td>train_loss</td><td>█▄▆▄▆▂▃▂▂▄▂▄▃▂▃▂▁▂▁▁▂▂▃▂▂▁▁▂▂▂▁▁▂▄▁▁▂▁▂▁</td></tr><tr><td>trainer/global_step</td><td>▁▁▁▁▁▂▂▂▂▂▂▃▃▃▃▄▄▄▄▄▄▅▅▅▅▅▅▆▆▆▇▇▇▇▇█████</td></tr><tr><td>training_accuracy</td><td>▂▃▆▁▁▂▃▅▆▂▆▇█▇▅█▃▃▆▃▆▇▇███▆▇▅█▇▆▇█▇█▅█▇█</td></tr><tr><td>val_accuracy</td><td>▁▅███</td></tr><tr><td>val_loss</td><td>█▄▁▁▂</td></tr></table><br/></div><div class=\"wandb-col\"><h3>Run summary:</h3><br/><table class=\"wandb\"><tr><td>epoch</td><td>4</td></tr><tr><td>train_loss</td><td>0.04064</td></tr><tr><td>trainer/global_step</td><td>4299</td></tr><tr><td>training_accuracy</td><td>0.95833</td></tr><tr><td>val_accuracy</td><td>0.9724</td></tr><tr><td>val_loss</td><td>0.10177</td></tr></table><br/></div></div>"
      ],
      "text/plain": [
       "<IPython.core.display.HTML object>"
      ]
     },
     "metadata": {},
     "output_type": "display_data"
    },
    {
     "data": {
      "text/html": [
       " View run <strong style=\"color:#cdcd00\">smart-plasma-7</strong> at: <a href='https://wandb.ai/tom-5610-aws/MNIST/runs/a15oyoxk' target=\"_blank\">https://wandb.ai/tom-5610-aws/MNIST/runs/a15oyoxk</a><br> View project at: <a href='https://wandb.ai/tom-5610-aws/MNIST' target=\"_blank\">https://wandb.ai/tom-5610-aws/MNIST</a><br>Synced 5 W&B file(s), 126 media file(s), 36 artifact file(s) and 0 other file(s)"
      ],
      "text/plain": [
       "<IPython.core.display.HTML object>"
      ]
     },
     "metadata": {},
     "output_type": "display_data"
    },
    {
     "data": {
      "text/html": [
       "Find logs at: <code>./wandb/run-20250826_001659-a15oyoxk/logs</code>"
      ],
      "text/plain": [
       "<IPython.core.display.HTML object>"
      ]
     },
     "metadata": {},
     "output_type": "display_data"
    }
   ],
   "source": [
    "wandb.finish()"
   ]
  },
  {
   "cell_type": "code",
   "execution_count": null,
   "id": "fe2d7f2e",
   "metadata": {},
   "outputs": [],
   "source": [
    "wandb_logger._checkpoint_name, wandb_logger._save_dir"
   ]
  },
  {
   "cell_type": "code",
   "execution_count": null,
   "id": "ea0a7953",
   "metadata": {},
   "outputs": [],
   "source": []
  },
  {
   "cell_type": "code",
   "execution_count": null,
   "id": "6d699b3e",
   "metadata": {},
   "outputs": [],
   "source": [
    "tom-5610-aws/MNIST/model-cj5s8odg:v0\n",
    "\n",
    "tom-5610-aws/MNIST/model-cj5s8odg:v1"
   ]
  },
  {
   "cell_type": "code",
   "execution_count": null,
   "id": "8bf6b24e",
   "metadata": {},
   "outputs": [],
   "source": [
    "api = wandb.Api()\n",
    "\n",
    "collections = [\n",
    "    coll for coll in api.artifact_type(type_name=\"model\", project=\"MNIST\").collections()\n",
    "]\n",
    "\n",
    "aliases = set()\n",
    "\n",
    "# for coll in collections:\n",
    "    # print(coll.artifacts.)\n",
    "\n",
    "print(collections)\n",
    "print(\"aliases\", aliases)"
   ]
  },
  {
   "cell_type": "code",
   "execution_count": null,
   "id": "56f6446a",
   "metadata": {},
   "outputs": [],
   "source": [
    "artifacts = api.artifacts(type_name=\"model\", name=\"tom-5610-aws/MNIST/model-ano4gslu\")\n",
    "\n",
    "if artifacts:\n",
    "    print(artifacts.next().source_qualified_name)\n",
    "else:\n",
    "    print('not found')"
   ]
  },
  {
   "cell_type": "code",
   "execution_count": 12,
   "id": "9da1dd92",
   "metadata": {},
   "outputs": [
    {
     "name": "stderr",
     "output_type": "stream",
     "text": [
      "\u001b[34m\u001b[1mwandb\u001b[0m:   1 of 1 files downloaded.  \n"
     ]
    },
    {
     "data": {
      "text/plain": [
       "'./checkpoint'"
      ]
     },
     "execution_count": 12,
     "metadata": {},
     "output_type": "execute_result"
    }
   ],
   "source": [
    "checkpoint_reference = \"tom-5610-aws/MNIST/model-ano4gslu:latest\"\n",
    "wandb_logger.download_artifact(checkpoint_reference, artifact_type=\"model\", save_dir=\"./checkpoint\")\n"
   ]
  },
  {
   "cell_type": "code",
   "execution_count": null,
   "id": "eaca17de",
   "metadata": {},
   "outputs": [],
   "source": []
  }
 ],
 "metadata": {
  "kernelspec": {
   "display_name": "sagemaker-training-job-wandb-samples",
   "language": "python",
   "name": "python3"
  },
  "language_info": {
   "codemirror_mode": {
    "name": "ipython",
    "version": 3
   },
   "file_extension": ".py",
   "mimetype": "text/x-python",
   "name": "python",
   "nbconvert_exporter": "python",
   "pygments_lexer": "ipython3",
   "version": "3.12.11"
  }
 },
 "nbformat": 4,
 "nbformat_minor": 5
}
