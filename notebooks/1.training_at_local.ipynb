{
 "cells": [
  {
   "cell_type": "markdown",
   "id": "08ceb8bd",
   "metadata": {},
   "source": [
    "## Deep Learning ML training at local\n",
    "\n",
    "The purpose of the notebook is to demo how to training a computer vision model at local using PyTorch Lightning, with Weights & Bias for full traceability and reproducibility."
   ]
  },
  {
   "cell_type": "code",
   "execution_count": null,
   "id": "ec26c3be",
   "metadata": {},
   "outputs": [
    {
     "data": {
      "text/plain": [
       "True"
      ]
     },
     "execution_count": 1,
     "metadata": {},
     "output_type": "execute_result"
    }
   ],
   "source": [
    "from dotenv import load_dotenv\n",
    "load_dotenv(\"../.env\")\n",
    "\n",
    "import wandb\n",
    "wandb.login()"
   ]
  },
  {
   "cell_type": "markdown",
   "id": "a93d35d2",
   "metadata": {},
   "source": [
    "### Setup the dataloader"
   ]
  },
  {
   "cell_type": "code",
   "execution_count": 3,
   "id": "f748ffb2",
   "metadata": {},
   "outputs": [],
   "source": [
    "from torchvision.datasets import MNIST\n",
    "from torchvision import transforms\n",
    "from torch.utils.data import DataLoader, random_split\n",
    "\n",
    "transform = transforms.Compose([\n",
    "    transforms.ToTensor(),\n",
    "    transforms.Normalize((0.1307,), (0.3081,))\n",
    "])\n",
    "\n",
    "dataset = MNIST(root=\"./data/MNIST\", download=True, transform=transform)\n",
    "training_set, validation_set = random_split(dataset, [55_000, 5000])"
   ]
  },
  {
   "cell_type": "code",
   "execution_count": 4,
   "id": "582d0c80",
   "metadata": {},
   "outputs": [],
   "source": [
    "training_loader = DataLoader(training_set, batch_size=64, shuffle=True)\n",
    "validation_loader = DataLoader(validation_set, batch_size=64)"
   ]
  },
  {
   "cell_type": "markdown",
   "id": "7c4672a4",
   "metadata": {},
   "source": [
    "### Defining the model"
   ]
  },
  {
   "cell_type": "markdown",
   "id": "9b8e8178",
   "metadata": {},
   "source": [
    "**Tips**:\n",
    "* Call `self.save_hyperparameters()` in `__init__` to automatically log your hyperparameters to **W&B**.\n",
    "* Call self.log in `training_step` and `validation_step` to log the metrics."
   ]
  },
  {
   "cell_type": "code",
   "execution_count": 5,
   "id": "a011a33c",
   "metadata": {},
   "outputs": [],
   "source": [
    "import lightning.pytorch as pl\n"
   ]
  },
  {
   "cell_type": "code",
   "execution_count": null,
   "id": "9901004e",
   "metadata": {},
   "outputs": [],
   "source": [
    "import torch\n",
    "from torch.nn import Linear, CrossEntropyLoss, functional as F\n",
    "from torch.optim import Adam\n",
    "from torchmetrics.functional import accuracy\n",
    "\n",
    "class MNIST_LitModule(pl.LightningModule):\n",
    "\n",
    "    def __init__(self, n_classes=10, n_layer_1=128, n_layer_2=256, lr=1e-3):\n",
    "        '''\n",
    "        method used to define our model parameters\n",
    "        '''\n",
    "        super().__init__()\n",
    "\n",
    "        # mnist images are (1, 28, 28) (channels, width, height)\n",
    "        self.layer_1 = Linear(28 * 28, n_layer_1)\n",
    "        self.layer_2 = Linear(n_layer_1, n_layer_2)\n",
    "        self.layer_3 = Linear(n_layer_2, n_classes)\n",
    "\n",
    "        # loss\n",
    "        self.loss = CrossEntropyLoss()\n",
    "\n",
    "        # optimizer parameters\n",
    "        self.lr = lr\n",
    "\n",
    "        # save Hyperparameters to self.hparams (auto-logged by W&B)\n",
    "        self.save_hyperparameters()\n",
    "\n",
    "    \n",
    "    def forward(self, x):\n",
    "        '''method used for infernce input -> output'''\n",
    "\n",
    "        batch_size, channels, width, height = x.size()\n",
    "\n",
    "        # (b, 1, 28, 28) -> (b, 1*28*28)\n",
    "        x = x.view(batch_size, -1)\n",
    "\n",
    "        # let's do 3 x (linear + relu)\n",
    "        x = self.layer_1(x)\n",
    "        x = F.relu(x)\n",
    "        x = self.layer_2(x)\n",
    "        x = F.relu(x)\n",
    "        x = self.layer_3(x)\n",
    "\n",
    "        return x\n",
    "\n",
    "    def _get_preds_loss_accuracy(self, batch):\n",
    "        '''convenience function since train/valid/test steps are similar'''\n",
    "        x, y = batch\n",
    "        logits = self(x)\n",
    "        preds = torch.argmax(logits, dim=1)\n",
    "        loss = self.loss(logits, y)\n",
    "        acc = accuracy(preds, y, 'multiclass', num_classes=10)\n",
    "        return preds, loss, acc\n",
    "\n",
    "\n",
    "    def training_step(self, batch, batch_idx):\n",
    "        '''needs to return a loss from a single batch'''\n",
    "        _, loss, acc = self._get_preds_loss_accuracy(batch)\n",
    "\n",
    "        # log loss and metric\n",
    "        self.log('train_loss', loss)\n",
    "        self.log('training_accuracy', acc)\n",
    "\n",
    "        return loss\n",
    "    \n",
    "    def validation_step(self, batch, batch_idx):\n",
    "        '''used for logging metrics'''\n",
    "        preds, loss, acc = self._get_preds_loss_accuracy(batch)\n",
    "\n",
    "        # log\n",
    "        self.log('val_loss', loss)\n",
    "        self.log('val_accuracy', acc)\n",
    "\n",
    "        return preds\n",
    "\n",
    "    def test_step(self, batch, batch_idx):\n",
    "        '''used for logging metrics'''\n",
    "        _, loss, acc = self._get_preds_loss_accuracy(batch)\n",
    "\n",
    "        # Log loss and metric\n",
    "        self.log('test_loss', loss)\n",
    "        self.log('test_accuracy', acc)\n",
    "\n",
    "    def configure_optimizers(self):\n",
    "        return Adam(self.parameters(), lr=self.lr)\n",
    "\n"
   ]
  },
  {
   "cell_type": "code",
   "execution_count": 7,
   "id": "c0408743",
   "metadata": {},
   "outputs": [],
   "source": [
    "model = MNIST_LitModule(n_layer_1=128, n_layer_2=128)"
   ]
  },
  {
   "cell_type": "markdown",
   "id": "747ea4ce",
   "metadata": {},
   "source": [
    "### Save model checkpoints"
   ]
  },
  {
   "cell_type": "code",
   "execution_count": 8,
   "id": "a4945617",
   "metadata": {},
   "outputs": [],
   "source": [
    "from lightning.pytorch.callbacks import ModelCheckpoint\n",
    "\n",
    "checkpoint_callback = ModelCheckpoint(\n",
    "    filename=\"{epoch:03d}\",\n",
    "    monitor='val_accuracy', \n",
    "    save_top_k=-1,\n",
    "    mode='max')"
   ]
  },
  {
   "cell_type": "markdown",
   "id": "113162c1",
   "metadata": {},
   "source": [
    "#### Logging images"
   ]
  },
  {
   "cell_type": "code",
   "execution_count": null,
   "id": "67d5e7d3",
   "metadata": {},
   "outputs": [],
   "source": [
    "from lightning.pytorch.callbacks import Callback\n",
    "\n",
    "import boto3\n",
    "\n",
    "sagemaker_client = boto3.client('sagemaker')\n",
    "\n",
    "def tag_training_job(training_job_arn:str, entity: str, project: str, checkpoint_name: str):\n",
    "    print(\"tag_training_job() is invoked\")\n",
    "    response = sagemaker_client.add_tags(\n",
    "        ResourceArn=training_job_arn,\n",
    "        Tags=[\n",
    "            {'Key': \"WANDB_ENTITY\", \"Value\": entity},\n",
    "            {'Key': \"WANDB_PROJECT\", \"Value\": project},\n",
    "            {'Key': \"WANDB_CHECKPOINT_NAME\", \"Value\": checkpoint_name}\n",
    "        ]\n",
    "    )\n",
    "\n",
    "class SageMakerTrainingJobTaggingCallback(Callback):\n",
    "\n",
    "    def __init__(self, training_job_arn:str):\n",
    "        self.tagging_done = False\n",
    "        self.training_job_arn = training_job_arn\n",
    "\n",
    "    def on_save_checkpoint(self, trainer, pl_module, checkpoint):\n",
    "        print(\"on_save_checkpoint() is invoked.\")\n",
    "        checkpoint_name = trainer.logger._checkpoint_name\n",
    "        # for saving a checkpoint for epoch '0', the checkpoint name is not generated yet.\n",
    "        if checkpoint_name is not None: \n",
    "            self.tagging_done = True\n",
    "            entity = trainer.logger._experiment.entity\n",
    "            project = trainer.logger._project\n",
    "\n",
    "            # put tags on training job\n",
    "            tag_training_job(self.training_job_arn, entity, project, checkpoint_name)\n",
    "        else:\n",
    "            # checkpoint name is not generated at wandb server side yet.\n",
    "            pass\n",
    "    \n",
    "    \n",
    "training_job_arn = \"\"\n",
    "tagging_callback = SageMakerTrainingJobTaggingCallback(training_job_arn)"
   ]
  },
  {
   "cell_type": "markdown",
   "id": "5749dbad",
   "metadata": {},
   "source": [
    "### Train Your Model"
   ]
  },
  {
   "cell_type": "code",
   "execution_count": 22,
   "id": "fd7a895c",
   "metadata": {},
   "outputs": [
    {
     "name": "stderr",
     "output_type": "stream",
     "text": [
      "GPU available: True (cuda), used: True\n",
      "TPU available: False, using: 0 TPU cores\n",
      "HPU available: False, using: 0 HPUs\n"
     ]
    }
   ],
   "source": [
    "from lightning.pytorch.loggers import WandbLogger\n",
    "from lightning.pytorch import Trainer\n",
    "\n",
    "wandb_logger = WandbLogger(project=\"MNIST\", log_model=\"all\")\n",
    "\n",
    "\n",
    "trainer = Trainer(\n",
    "    logger=wandb_logger,\n",
    "    callbacks=[tagging_callback, checkpoint_callback],\n",
    "    accelerator=\"gpu\",\n",
    "    max_epochs=5\n",
    ")"
   ]
  },
  {
   "cell_type": "code",
   "execution_count": null,
   "id": "5c3c0f0b",
   "metadata": {},
   "outputs": [],
   "source": [
    "# import glob \n",
    "\n",
    "# checkpoint_reference = \"{entity}/MNIST/model-hri3trgq:v14\"\n",
    "# download_artefact_path = wandb_logger.download_artifact(checkpoint_reference, artifact_type=\"model\")\n",
    "# download_artefact_path\n",
    "\n",
    "\n",
    "# model_files = glob.glob(f\"{download_artefact_path}/*.ckpt\")\n",
    "\n",
    "# model_files[0]\n",
    "# model = MNIST_LitModule.load_from_checkpoint(model_files[0]) \n"
   ]
  },
  {
   "cell_type": "code",
   "execution_count": 23,
   "id": "394b7927",
   "metadata": {},
   "outputs": [
    {
     "name": "stderr",
     "output_type": "stream",
     "text": [
      "/home/ubuntu/workspace/deep-learning/sagemaker-training-job-wandb-samples/.venv/lib/python3.12/site-packages/lightning/pytorch/loggers/wandb.py:397: There is a wandb run already in progress and newly created instances of `WandbLogger` will reuse this run. If this is not desired, call `wandb.finish()` before instantiating `WandbLogger`.\n",
      "/home/ubuntu/workspace/deep-learning/sagemaker-training-job-wandb-samples/.venv/lib/python3.12/site-packages/lightning/pytorch/callbacks/model_checkpoint.py:701: Checkpoint directory ./MNIST/eslt91sx/checkpoints exists and is not empty.\n",
      "LOCAL_RANK: 0 - CUDA_VISIBLE_DEVICES: [0]\n",
      "\n",
      "  | Name    | Type             | Params | Mode \n",
      "-----------------------------------------------------\n",
      "0 | layer_1 | Linear           | 100 K  | train\n",
      "1 | layer_2 | Linear           | 16.5 K | train\n",
      "2 | layer_3 | Linear           | 1.3 K  | train\n",
      "3 | loss    | CrossEntropyLoss | 0      | train\n",
      "-----------------------------------------------------\n",
      "118 K     Trainable params\n",
      "0         Non-trainable params\n",
      "118 K     Total params\n",
      "0.473     Total estimated model params size (MB)\n",
      "4         Modules in train mode\n",
      "0         Modules in eval mode\n"
     ]
    },
    {
     "name": "stdout",
     "output_type": "stream",
     "text": [
      "                                                                            "
     ]
    },
    {
     "name": "stderr",
     "output_type": "stream",
     "text": [
      "/home/ubuntu/workspace/deep-learning/sagemaker-training-job-wandb-samples/.venv/lib/python3.12/site-packages/lightning/pytorch/trainer/connectors/data_connector.py:433: The 'val_dataloader' does not have many workers which may be a bottleneck. Consider increasing the value of the `num_workers` argument` to `num_workers=15` in the `DataLoader` to improve performance.\n",
      "/home/ubuntu/workspace/deep-learning/sagemaker-training-job-wandb-samples/.venv/lib/python3.12/site-packages/lightning/pytorch/trainer/connectors/data_connector.py:433: The 'train_dataloader' does not have many workers which may be a bottleneck. Consider increasing the value of the `num_workers` argument` to `num_workers=15` in the `DataLoader` to improve performance.\n"
     ]
    },
    {
     "name": "stdout",
     "output_type": "stream",
     "text": [
      "Epoch 0: 100%|██████████| 860/860 [00:11<00:00, 75.70it/s, v_num=91sx]on_save_checkpoint() is invoked.\n",
      "!!!LightningModule-Checkpoint!!!\n",
      "checkpoint name None\n",
      "project MNIST\n",
      "name None\n",
      "entity tom-5610-aws\n",
      "Epoch 1: 100%|██████████| 860/860 [00:11<00:00, 75.58it/s, v_num=91sx]on_save_checkpoint() is invoked.\n",
      "tag_training_job() is invoked\n",
      "!!!LightningModule-Checkpoint!!!\n",
      "checkpoint name model-eslt91sx\n",
      "project MNIST\n",
      "name None\n",
      "entity tom-5610-aws\n",
      "Epoch 2: 100%|██████████| 860/860 [00:11<00:00, 76.30it/s, v_num=91sx]on_save_checkpoint() is invoked.\n",
      "tag_training_job() is invoked\n",
      "!!!LightningModule-Checkpoint!!!\n",
      "checkpoint name model-eslt91sx\n",
      "project MNIST\n",
      "name None\n",
      "entity tom-5610-aws\n",
      "Epoch 3: 100%|██████████| 860/860 [00:11<00:00, 75.79it/s, v_num=91sx]on_save_checkpoint() is invoked.\n",
      "tag_training_job() is invoked\n",
      "!!!LightningModule-Checkpoint!!!\n",
      "checkpoint name model-eslt91sx\n",
      "project MNIST\n",
      "name None\n",
      "entity tom-5610-aws\n",
      "Epoch 4: 100%|██████████| 860/860 [00:11<00:00, 75.54it/s, v_num=91sx]on_save_checkpoint() is invoked.\n",
      "tag_training_job() is invoked\n",
      "!!!LightningModule-Checkpoint!!!\n",
      "checkpoint name model-eslt91sx\n",
      "project MNIST\n",
      "name None\n",
      "entity tom-5610-aws\n"
     ]
    },
    {
     "name": "stderr",
     "output_type": "stream",
     "text": [
      "`Trainer.fit` stopped: `max_epochs=5` reached.\n"
     ]
    },
    {
     "name": "stdout",
     "output_type": "stream",
     "text": [
      "Epoch 4: 100%|██████████| 860/860 [00:11<00:00, 73.69it/s, v_num=91sx]\n"
     ]
    }
   ],
   "source": [
    "trainer.fit(model, training_loader, validation_loader)"
   ]
  },
  {
   "cell_type": "code",
   "execution_count": null,
   "id": "c6be9c5a",
   "metadata": {},
   "outputs": [],
   "source": [
    "wandb.finish()"
   ]
  },
  {
   "cell_type": "code",
   "execution_count": null,
   "id": "fe2d7f2e",
   "metadata": {},
   "outputs": [],
   "source": [
    "wandb_logger._checkpoint_name, wandb_logger._save_dir"
   ]
  },
  {
   "cell_type": "code",
   "execution_count": null,
   "id": "8bf6b24e",
   "metadata": {},
   "outputs": [],
   "source": [
    "api = wandb.Api()\n",
    "\n",
    "collections = [\n",
    "    coll for coll in api.artifact_type(type_name=\"model\", project=\"MNIST\").collections()\n",
    "]\n",
    "\n",
    "aliases = set()\n",
    "\n",
    "# for coll in collections:\n",
    "    # print(coll.artifacts.)\n",
    "\n",
    "print(collections)\n",
    "print(\"aliases\", aliases)"
   ]
  },
  {
   "cell_type": "code",
   "execution_count": null,
   "id": "56f6446a",
   "metadata": {},
   "outputs": [],
   "source": [
    "artifacts = api.artifacts(type_name=\"model\", name=\"{entity}/MNIST/model-ano4gslu\")\n",
    "\n",
    "if artifacts:\n",
    "    print(artifacts.next().source_qualified_name)\n",
    "else:\n",
    "    print('not found')"
   ]
  },
  {
   "cell_type": "code",
   "execution_count": null,
   "id": "9da1dd92",
   "metadata": {},
   "outputs": [],
   "source": [
    "checkpoint_reference = \"{entity}/MNIST/model-ano4gslu:latest\"\n",
    "wandb_logger.download_artifact(checkpoint_reference, artifact_type=\"model\", save_dir=\"./checkpoint\")\n"
   ]
  },
  {
   "cell_type": "markdown",
   "id": "46a67b8e",
   "metadata": {},
   "source": [
    "### processing training job tagging"
   ]
  },
  {
   "cell_type": "code",
   "execution_count": null,
   "id": "9a054d7d",
   "metadata": {},
   "outputs": [
    {
     "data": {
      "text/plain": [
       "{}"
      ]
     },
     "execution_count": 29,
     "metadata": {},
     "output_type": "execute_result"
    }
   ],
   "source": [
    "import boto3\n",
    "\n",
    "sagemaker_client = boto3.client('sagemaker')\n",
    "\n",
    "def get_sagemaker_training_job_tags(training_job_arn:str):\n",
    "    response = sagemaker_client.list_tags(ResourceArn=training_job_arn)\n",
    "    tags = {}\n",
    "    for tag in response['Tags']:\n",
    "        tags[tag['Key']] = tag['Value']\n",
    "    return tags\n",
    "\n",
    "job_arn = \"\"\n",
    "get_sagemaker_training_job_tags(job_arn)"
   ]
  },
  {
   "cell_type": "code",
   "execution_count": null,
   "id": "e8896f2f",
   "metadata": {},
   "outputs": [],
   "source": []
  },
  {
   "cell_type": "code",
   "execution_count": null,
   "id": "53b1c32c",
   "metadata": {},
   "outputs": [],
   "source": []
  }
 ],
 "metadata": {
  "kernelspec": {
   "display_name": "sagemaker-training-job-wandb-samples",
   "language": "python",
   "name": "python3"
  },
  "language_info": {
   "codemirror_mode": {
    "name": "ipython",
    "version": 3
   },
   "file_extension": ".py",
   "mimetype": "text/x-python",
   "name": "python",
   "nbconvert_exporter": "python",
   "pygments_lexer": "ipython3",
   "version": "3.12.11"
  }
 },
 "nbformat": 4,
 "nbformat_minor": 5
}
