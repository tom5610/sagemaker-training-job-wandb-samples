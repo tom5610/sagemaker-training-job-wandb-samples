{
 "cells": [
  {
   "cell_type": "markdown",
   "id": "08ceb8bd",
   "metadata": {},
   "source": [
    "## PyTorch Lightning ML Training with Weights and Bias Checkpoints\n",
    "\n",
    "> This is a quick demo on how to run ML training (with PyTorch Lightning) at local with Weights and Bias integration.\n",
    "\n",
    "Weights and Bias (W&B) is a popular platform for ML experiment, linage checking and checkpoints storage. When using PyTorch Lightning framework, it provides native integration with W&B, which makes the the training / validation metrics logging, and checkpoint storage easy. \n",
    "\n",
    "In this notebook, we show case on how the integration, and how to resume training from checkpoints, which provides a good reference when moving to large-scale ML training using Amazon SageMaker Training Job."
   ]
  },
  {
   "cell_type": "markdown",
   "id": "1cd2f6bc",
   "metadata": {},
   "source": [
    "### Setup\n",
    "\n",
    "we are using `.env` to store environment variable(s). In our use case, we used `WANDB_API_KEY` for W&B login (authentication)."
   ]
  },
  {
   "cell_type": "code",
   "execution_count": null,
   "id": "ec26c3be",
   "metadata": {},
   "outputs": [
    {
     "data": {
      "text/plain": [
       "True"
      ]
     },
     "execution_count": 1,
     "metadata": {},
     "output_type": "execute_result"
    }
   ],
   "source": [
    "from dotenv import load_dotenv\n",
    "\n",
    "load_dotenv(\"../.env\")\n",
    "\n",
    "# login W&B\n",
    "import wandb\n",
    "wandb.login()"
   ]
  },
  {
   "cell_type": "markdown",
   "id": "a93d35d2",
   "metadata": {},
   "source": [
    "### Dataloader for ML Training\n",
    "\n",
    "We shall use a OSS image dataset - MNIST for a image classification problem. In this section, we will focus on creating `DataLoader`, which will be input for ML training."
   ]
  },
  {
   "cell_type": "code",
   "execution_count": null,
   "id": "f748ffb2",
   "metadata": {},
   "outputs": [],
   "source": [
    "from torchvision.datasets import MNIST\n",
    "from torchvision import transforms\n",
    "from torch.utils.data import DataLoader, random_split\n",
    "\n",
    "transform = transforms.Compose([\n",
    "    transforms.ToTensor(),\n",
    "    transforms.Normalize((0.1307,), (0.3081,))\n",
    "])\n",
    "\n",
    "dataset = MNIST(root=\"./data/MNIST\", download=True, transform=transform)\n",
    "training_set, validation_set = random_split(dataset, [55_000, 5000])\n",
    "\n",
    "training_loader = DataLoader(training_set, batch_size=64, shuffle=True)\n",
    "validation_loader = DataLoader(validation_set, batch_size=64)"
   ]
  },
  {
   "cell_type": "markdown",
   "id": "7c4672a4",
   "metadata": {},
   "source": [
    "### Defining the model architecture\n",
    "\n",
    "This section is to capture the model architecture for the image classification problem. We create a class `MNIST_LitModule` with providing hyperparameters (including class number, layers and learning rate, etc.)\n",
    "\n",
    "The model architecture and configuration is a workable solution, which is not optimized for solving the image classification. We shall use it to demo the integration with W&B."
   ]
  },
  {
   "cell_type": "markdown",
   "id": "9b8e8178",
   "metadata": {},
   "source": [
    "**Tips**:\n",
    "* Call `self.save_hyperparameters()` in `__init__` to automatically log your hyperparameters to **W&B**.\n",
    "* Call self.log in `training_step` and `validation_step` to log the metrics."
   ]
  },
  {
   "cell_type": "code",
   "execution_count": null,
   "id": "9901004e",
   "metadata": {},
   "outputs": [],
   "source": [
    "import lightning.pytorch as pl\n",
    "\n",
    "import torch\n",
    "from torch.nn import Linear, CrossEntropyLoss, functional as F\n",
    "from torch.optim import Adam\n",
    "from torchmetrics.functional import accuracy\n",
    "\n",
    "class MNIST_LitModule(pl.LightningModule):\n",
    "\n",
    "    def __init__(self, n_classes=10, n_layer_1=128, n_layer_2=256, lr=1e-3):\n",
    "        '''\n",
    "        method used to define our model parameters\n",
    "        '''\n",
    "        super().__init__()\n",
    "\n",
    "        # mnist images are (1, 28, 28) (channels, width, height)\n",
    "        self.layer_1 = Linear(28 * 28, n_layer_1)\n",
    "        self.layer_2 = Linear(n_layer_1, n_layer_2)\n",
    "        self.layer_3 = Linear(n_layer_2, n_classes)\n",
    "\n",
    "        # loss\n",
    "        self.loss = CrossEntropyLoss()\n",
    "\n",
    "        # optimizer parameters\n",
    "        self.lr = lr\n",
    "\n",
    "        # save Hyperparameters to self.hparams (auto-logged by W&B)\n",
    "        self.save_hyperparameters()\n",
    "\n",
    "    \n",
    "    def forward(self, x):\n",
    "        '''method used for infernce input -> output'''\n",
    "\n",
    "        batch_size, channels, width, height = x.size()\n",
    "\n",
    "        # (b, 1, 28, 28) -> (b, 1*28*28)\n",
    "        x = x.view(batch_size, -1)\n",
    "\n",
    "        # let's do 3 x (linear + relu)\n",
    "        x = self.layer_1(x)\n",
    "        x = F.relu(x)\n",
    "        x = self.layer_2(x)\n",
    "        x = F.relu(x)\n",
    "        x = self.layer_3(x)\n",
    "\n",
    "        return x\n",
    "\n",
    "    def _get_preds_loss_accuracy(self, batch):\n",
    "        '''convenience function since train/valid/test steps are similar'''\n",
    "        x, y = batch\n",
    "        logits = self(x)\n",
    "        preds = torch.argmax(logits, dim=1)\n",
    "        loss = self.loss(logits, y)\n",
    "        acc = accuracy(preds, y, 'multiclass', num_classes=10)\n",
    "        return preds, loss, acc\n",
    "\n",
    "\n",
    "    def training_step(self, batch, batch_idx):\n",
    "        '''needs to return a loss from a single batch'''\n",
    "        _, loss, acc = self._get_preds_loss_accuracy(batch)\n",
    "\n",
    "        # log loss and metric\n",
    "        self.log('train_loss', loss)\n",
    "        self.log('training_accuracy', acc)\n",
    "\n",
    "        return loss\n",
    "    \n",
    "    def validation_step(self, batch, batch_idx):\n",
    "        '''used for logging metrics'''\n",
    "        preds, loss, acc = self._get_preds_loss_accuracy(batch)\n",
    "\n",
    "        # log\n",
    "        self.log('val_loss', loss)\n",
    "        self.log('val_accuracy', acc)\n",
    "\n",
    "        return preds\n",
    "\n",
    "    def test_step(self, batch, batch_idx):\n",
    "        '''used for logging metrics'''\n",
    "        _, loss, acc = self._get_preds_loss_accuracy(batch)\n",
    "\n",
    "        # Log loss and metric\n",
    "        self.log('test_loss', loss)\n",
    "        self.log('test_accuracy', acc)\n",
    "\n",
    "    def configure_optimizers(self):\n",
    "        return Adam(self.parameters(), lr=self.lr)\n",
    "\n"
   ]
  },
  {
   "cell_type": "markdown",
   "id": "4a71d517",
   "metadata": {},
   "source": [
    "Define the model"
   ]
  },
  {
   "cell_type": "code",
   "execution_count": 7,
   "id": "c0408743",
   "metadata": {},
   "outputs": [],
   "source": [
    "model = MNIST_LitModule(n_layer_1=128, n_layer_2=128)"
   ]
  },
  {
   "cell_type": "markdown",
   "id": "747ea4ce",
   "metadata": {},
   "source": [
    "### Training Callbacks\n",
    "\n",
    "The callbacks is to enable model checkpoints configuration and show case how to capture W&B checkpoint(s) meta data on a SageMaker Training Job using `SageMakerTrainingJobTaggingCallback`. \n"
   ]
  },
  {
   "cell_type": "code",
   "execution_count": 8,
   "id": "a4945617",
   "metadata": {},
   "outputs": [],
   "source": [
    "from lightning.pytorch.callbacks import ModelCheckpoint\n",
    "\n",
    "checkpoint_callback = ModelCheckpoint(\n",
    "    filename=\"{epoch:03d}\",\n",
    "    monitor='val_accuracy', \n",
    "    save_top_k=-1,\n",
    "    mode='max')"
   ]
  },
  {
   "cell_type": "markdown",
   "id": "113162c1",
   "metadata": {},
   "source": [
    "> Given this is an example to train at local, there is no SageMaker training jobs associated with it. However, the utility class is for a showcase purpose without real usage.\n",
    "\n",
    "In SageMaker Training Job integration with W&B, we shall leave the train script refer to the tags and the environment variables to resume ML training."
   ]
  },
  {
   "cell_type": "code",
   "execution_count": null,
   "id": "67d5e7d3",
   "metadata": {},
   "outputs": [],
   "source": [
    "from lightning.pytorch.callbacks import Callback\n",
    "\n",
    "import boto3\n",
    "\n",
    "sagemaker_client = boto3.client('sagemaker')\n",
    "\n",
    "class SageMakerTrainingJobTaggingCallback(Callback):\n",
    "\n",
    "    def __init__(self, training_job_arn:str):\n",
    "        self.tagging_done = False\n",
    "        self.training_job_arn = training_job_arn\n",
    "\n",
    "    def on_save_checkpoint(self, trainer, pl_module, checkpoint):\n",
    "        print(\"on_save_checkpoint() is invoked.\")\n",
    "        checkpoint_name = trainer.logger._checkpoint_name\n",
    "        # for saving a checkpoint for epoch '0', the checkpoint name is not generated yet.\n",
    "        if checkpoint_name is not None and (not self.tagging_done): \n",
    "            self.tagging_done = True\n",
    "            entity = trainer.logger._experiment.entity\n",
    "            project = trainer.logger._project\n",
    "\n",
    "            # put tags on training job\n",
    "            self.tag_training_job(self.training_job_arn, entity, project, checkpoint_name)\n",
    "        else:\n",
    "            # checkpoint name is not generated at wandb server side yet.\n",
    "            pass\n",
    "    \n",
    "    def tag_training_job(self, training_job_arn:str, entity: str, project: str, checkpoint_name: str):\n",
    "        print(\"tag_training_job() is invoked\")\n",
    "        response = sagemaker_client.add_tags(\n",
    "            ResourceArn=training_job_arn,\n",
    "            Tags=[\n",
    "                {'Key': \"WANDB_ENTITY\", \"Value\": entity},\n",
    "                {'Key': \"WANDB_PROJECT\", \"Value\": project},\n",
    "                {'Key': \"WANDB_CHECKPOINT_NAME\", \"Value\": checkpoint_name}\n",
    "            ]\n",
    "        )    \n",
    "\n",
    "training_job_arn = \"\"\n",
    "tagging_callback = SageMakerTrainingJobTaggingCallback(training_job_arn)"
   ]
  },
  {
   "cell_type": "markdown",
   "id": "5749dbad",
   "metadata": {},
   "source": [
    "### ML Training"
   ]
  },
  {
   "cell_type": "code",
   "execution_count": null,
   "id": "fd7a895c",
   "metadata": {},
   "outputs": [
    {
     "name": "stderr",
     "output_type": "stream",
     "text": [
      "GPU available: True (cuda), used: True\n",
      "TPU available: False, using: 0 TPU cores\n",
      "HPU available: False, using: 0 HPUs\n"
     ]
    }
   ],
   "source": [
    "from lightning.pytorch.loggers import WandbLogger\n",
    "from lightning.pytorch import Trainer\n",
    "\n",
    "wandb_logger = WandbLogger(project=\"MNIST\", log_model=\"all\")\n",
    "\n",
    "trainer = Trainer(\n",
    "    logger=wandb_logger,\n",
    "    callbacks=[checkpoint_callback], # adding tagging_callback to testing on how callback works on tagging training job. \n",
    "    accelerator=\"gpu\",\n",
    "    max_epochs=5\n",
    ")\n",
    "\n",
    "trainer.fit(model, training_loader, validation_loader)"
   ]
  },
  {
   "cell_type": "code",
   "execution_count": null,
   "id": "1fe45b12",
   "metadata": {},
   "outputs": [],
   "source": [
    "wandb.finish()"
   ]
  },
  {
   "cell_type": "markdown",
   "id": "93ca75ca",
   "metadata": {},
   "source": [
    "### ML training with resuming checkpoint(s)\n",
    "\n",
    "This section is to showcase how to download model artefact with specific checkpoint reference, and resume the ML training using a checkpoint."
   ]
  },
  {
   "cell_type": "code",
   "execution_count": null,
   "id": "5c3c0f0b",
   "metadata": {},
   "outputs": [],
   "source": [
    "import glob \n",
    "\n",
    "checkpoint_reference = \"{entity}/MNIST/model-hri3trgq:v14\"\n",
    "download_artefact_path = wandb_logger.download_artifact(checkpoint_reference, artifact_type=\"model\")\n",
    "download_artefact_path\n",
    "\n",
    "\n",
    "model_files = glob.glob(f\"{download_artefact_path}/*.ckpt\")\n",
    "\n",
    "trainer = Trainer(\n",
    "    logger=wandb_logger,\n",
    "    callbacks=[checkpoint_callback], # adding tagging_callback to testing on how callback works on tagging training job. \n",
    "    accelerator=\"gpu\",\n",
    "    max_epochs=5\n",
    ")\n",
    "\n",
    "model = MNIST_LitModule.load_from_checkpoint(model_files[0]) \n",
    "trainer.fit(model, training_loader, validation_loader)"
   ]
  },
  {
   "cell_type": "code",
   "execution_count": null,
   "id": "c6be9c5a",
   "metadata": {},
   "outputs": [],
   "source": [
    "wandb.finish()"
   ]
  },
  {
   "cell_type": "markdown",
   "id": "f0a997cf",
   "metadata": {},
   "source": [
    "### Next step\n",
    "\n",
    "We will experiment W&B integration with SageMaker Training Job. Please refer to [SageMaker Training](./2.sagemaker-training/README.md)."
   ]
  },
  {
   "cell_type": "markdown",
   "id": "18a006ae",
   "metadata": {},
   "source": []
  }
 ],
 "metadata": {
  "kernelspec": {
   "display_name": "sagemaker-training-job-wandb-samples",
   "language": "python",
   "name": "python3"
  },
  "language_info": {
   "codemirror_mode": {
    "name": "ipython",
    "version": 3
   },
   "file_extension": ".py",
   "mimetype": "text/x-python",
   "name": "python",
   "nbconvert_exporter": "python",
   "pygments_lexer": "ipython3",
   "version": "3.12.11"
  }
 },
 "nbformat": 4,
 "nbformat_minor": 5
}
